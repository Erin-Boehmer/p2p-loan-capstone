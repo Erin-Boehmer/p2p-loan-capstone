{
 "metadata": {
  "name": "",
  "signature": "sha256:35d07cedc1fa85c55c7251d995ceda965b1628201e7ca3d25175348a60dd74b8"
 },
 "nbformat": 3,
 "nbformat_minor": 0,
 "worksheets": [
  {
   "cells": [
    {
     "cell_type": "code",
     "collapsed": false,
     "input": [
      "#Libraries\n",
      "import numpy as np\n",
      "import pandas as pd\n",
      "\n",
      "import matplotlib.pyplot as plt\n",
      "import matplotlib.mlab as mlab\n",
      "\n",
      "import sys\n",
      "import math\n",
      "import numexpr\n",
      "import re\n",
      "from __future__ import division\n",
      "\n",
      "from datetime import date\n",
      "import warnings\n",
      "\n",
      "%matplotlib inline"
     ],
     "language": "python",
     "metadata": {},
     "outputs": [],
     "prompt_number": 2
    },
    {
     "cell_type": "heading",
     "level": 2,
     "metadata": {},
     "source": [
      "Step 1: Cleaning the original SCF data (city, state, zip3)"
     ]
    },
    {
     "cell_type": "code",
     "collapsed": false,
     "input": [
      "f = open(\"data/scf.csv\")\n",
      "clean_f = open('data/scf_clean.csv', 'w+')\n",
      "remove_start = '.*\\s{1}ST\\s{1}|.*\\s{1}DR\\s{1}|.*\\s{1}BLVD\\s{1}|.*\\s{1}WAY\\s{1}|.*\\s{1}HWY\\s{1}|.*\\s{1}PKWY\\s{1}|.*\\s{1}TRL\\s{1}|.*\\s{1}RD\\s{1}|.*\\s{1}LN\\s{1}|.*\\s{1}LOOP\\s{1}|.*\\s{1}PIKE\\s{1}|.*\\s{1}SQ\\s{1}|.*\\s{1}PL\\s{1}|.*\\s{1}AVE\\s{1}'\n",
      "remove_phone = '[0-9]{4}\\s.*$'\n",
      "final = '.*\\s{1}[0-9]{3}'\n",
      "\n",
      "for line in f:\n",
      "    line = re.sub(remove_start,\"\",line)\n",
      "    line = re.sub(remove_phone,\"\",line)\n",
      "    line = re.findall(final,line)\n",
      "    if len(line) == 0:\n",
      "        clean_f.write('\\n')\n",
      "    else:\n",
      "        clean_f.write(\"%s\\n\" % line[0])\n",
      "f.close()\n",
      "clean_f.close()\n",
      "        "
     ],
     "language": "python",
     "metadata": {},
     "outputs": [],
     "prompt_number": 2
    },
    {
     "cell_type": "heading",
     "level": 2,
     "metadata": {},
     "source": [
      "Step 2: Format SCF data as CSV"
     ]
    },
    {
     "cell_type": "code",
     "collapsed": false,
     "input": [
      "f = open(\"data/scf_clean.txt\")\n",
      "clean_f = open(\"data/scf_final.csv\", \"w+\")\n",
      "zip3_regex = '\\s{1}[0-9]{3}$'\n",
      "state_regex = '\\s{1}[A-Z]{2}$' \n",
      "\n",
      "for line in f:\n",
      "    zip3 = re.findall(zip3_regex, line)\n",
      "    line = re.sub(zip3_regex, \"\", line)\n",
      "    state = re.findall(state_regex, line)\n",
      "    line = re.sub(state_regex, \"\", line)\n",
      "    if zip3 and state:\n",
      "        clean_f.write(line.strip() +\",\"+ state[0].strip() +\",\"+ zip3[0].strip()+\"\\n\")\n",
      "        \n",
      "f.close()\n",
      "clean_f.close()\n",
      "                    "
     ],
     "language": "python",
     "metadata": {},
     "outputs": [],
     "prompt_number": 115
    },
    {
     "cell_type": "heading",
     "level": 2,
     "metadata": {},
     "source": [
      "Step 3: Create full list of zipcode mappings to SCFs"
     ]
    },
    {
     "cell_type": "markdown",
     "metadata": {},
     "source": [
      "I could not find a dataset mapping scf to counties and so manually added the \"counties\" column to the SCF dataset. However, SCFs service multiple zipcodes and so I will be \"filling in the blank\" zipcodes semi-manually (le sigh... data munging)."
     ]
    },
    {
     "cell_type": "code",
     "collapsed": false,
     "input": [
      "full_scf_df = pd.read_csv(\"data/full_scf_mappings.csv\", usecols=[\"Zip3\"])\n",
      "full_mappings = []\n",
      "\n",
      "# remove commas and list out \"-\" ranges so that we can split with a \" \" only\n",
      "full_scf_mappings = [row.split(\", \") for row in full_scf_df[\"Zip3\"]]\n",
      "for i in range(len(full_scf_mappings)):\n",
      "    clean_zip_list = []\n",
      "    for zip3 in full_scf_mappings[i]:\n",
      "        if len(zip3) is 3:\n",
      "            clean_zip_list.append(zip3)\n",
      "        elif len(zip3) is 2:\n",
      "            clean_zip_list.append(\"0\"+zip3)\n",
      "        else:\n",
      "            first_zip = int(re.findall(\"^[0-9]{3}\",zip3)[0])\n",
      "            last_zip = int(re.findall(\"[0-9]{3}$\",zip3)[0])\n",
      "            for z in range(first_zip,last_zip+1):\n",
      "                z = str(z)\n",
      "                if len(z) is 3:\n",
      "                    clean_zip_list.append(z)\n",
      "                else:\n",
      "                    prepend_zeros = 3-len(z)\n",
      "                    for i in range(prepend_zeros):\n",
      "                        z = \"0\" + z\n",
      "                    clean_zip_list.append(z)\n",
      "    full_mappings.append(clean_zip_list)   "
     ],
     "language": "python",
     "metadata": {},
     "outputs": [],
     "prompt_number": 51
    },
    {
     "cell_type": "heading",
     "level": 2,
     "metadata": {},
     "source": [
      "Step 4: Create missing zipcode mappings to SCFs in scf_counties.csv"
     ]
    },
    {
     "cell_type": "code",
     "collapsed": false,
     "input": [
      "scf_counties_df = pd.read_csv(\"data/scf_counties.csv\",dtype={\"Zip3\":object})\n",
      "scf_counties_df = scf_counties_df.sort([\"Zip3\"])\n",
      "print scf_counties_df.head()    \n",
      "\n",
      "all_scf_counties_df = pd.read_csv(\"data/all_scf_counties.csv\")\n",
      "print all_scf_counties_df.head()"
     ],
     "language": "python",
     "metadata": {},
     "outputs": [
      {
       "output_type": "stream",
       "stream": "stdout",
       "text": [
        "            City State Zip3              County\n",
        "0       MELVILLE    NY  005       Nassau County\n",
        "1       SAN JUAN    PR  009  San Juan Municipio\n",
        "2    SPRINGFIELD    MA  011      Hampden County\n",
        "3     SHREWSBURY    MA  015    Worcester County\n",
        "4  NORTH READING    MA  018    Middlesex County\n",
        "Empty DataFrame\n",
        "Columns: [City, State, Zip3, County]\n",
        "Index: []\n"
       ]
      }
     ],
     "prompt_number": 104
    },
    {
     "cell_type": "code",
     "collapsed": false,
     "input": [
      "rows_to_add = []\n",
      "for scf_group in full_mappings:\n",
      "    scf_center = scf_counties_df.loc[scf_counties_df['Zip3'].isin(scf_group)]\n",
      "    city = scf_center.values[0][0]\n",
      "    state = scf_center.values[0][1]\n",
      "    county = scf_center.values[0][3]\n",
      "    for zip3 in scf_group:\n",
      "        rows_to_add.append({'City':city, \"State\":state, \"Zip3\":zip3, \"County\":county})\n",
      "\n",
      "all_scf_counties_df = all_scf_counties_df.append(rows_to_add, ignore_index=True)\n",
      "all_scf_counties_df = all_scf_counties_df.sort([\"Zip3\"])\n",
      "print all_scf_counties_df.head()\n",
      "all_scf_counties_df.to_csv(\"data/all_scf_counties.csv\")"
     ],
     "language": "python",
     "metadata": {},
     "outputs": [
      {
       "output_type": "stream",
       "stream": "stdout",
       "text": [
        "       City State Zip3              County\n",
        "0  MELVILLE    NY  005       Nassau County\n",
        "4  SAN JUAN    PR  006  San Juan Municipio\n",
        "5  SAN JUAN    PR  007  San Juan Municipio\n",
        "6  SAN JUAN    PR  008  San Juan Municipio\n",
        "7  SAN JUAN    PR  009  San Juan Municipio\n"
       ]
      }
     ],
     "prompt_number": 105
    },
    {
     "cell_type": "heading",
     "level": 2,
     "metadata": {},
     "source": [
      "Step 5: Merge scp/county table with unemployment data"
     ]
    },
    {
     "cell_type": "code",
     "collapsed": false,
     "input": [
      "u05 = pd.read_csv(\"data/unemployment_data/u05.csv\")\n",
      "u06 = pd.read_csv(\"data/unemployment_data/u06.csv\")\n",
      "u07 = pd.read_csv(\"data/unemployment_data/u07.csv\")\n",
      "u08 = pd.read_csv(\"data/unemployment_data/u08.csv\")\n",
      "u09 = pd.read_csv(\"data/unemployment_data/u09.csv\")\n",
      "u10 = pd.read_csv(\"data/unemployment_data/u10.csv\")\n",
      "u11 = pd.read_csv(\"data/unemployment_data/u11.csv\")\n",
      "u12 = pd.read_csv(\"data/unemployment_data/u12.csv\")\n",
      "u13 = pd.read_csv(\"data/unemployment_data/u13.csv\")\n",
      "u14 = pd.read_csv(\"data/unemployment_data/u14.csv\")\n",
      "\n",
      "u_frames = [u06,u07,u08,u09,u10,u11,u12,u13,u14]\n",
      "merged = u05\n",
      "for frame in u_frames:\n",
      "    merged = pd.merge(merged, frame, on='County', how='outer')\n",
      "    \n",
      "merged[\"State\"] = merged[\"County\"]\n",
      "\n",
      "for i in range(len(merged)):\n",
      "    if \"District of Columbia\" not in merged.loc[i, \"County\"]:\n",
      "        merged.loc[i, \"County\"] = re.findall('^.*,',merged.loc[i, \"County\"])[0][:-1]\n",
      "        merged.loc[i, \"State\"] = re.findall('[A-Z]{2}$',merged.loc[i, \"State\"])[0]\n",
      "\n",
      "print merged.head()\n",
      "merged.to_csv(\"data/unemployment_data/full_u.csv\")"
     ],
     "language": "python",
     "metadata": {},
     "outputs": [
      {
       "output_type": "stream",
       "stream": "stdout",
       "text": [
        "           County      2005      2006  2007  2008      2009  2010  2011  2012  \\\n",
        "0  Autauga County  3.8       3.3        3.3       5.1   9.7   8.9   8.3   7.0   \n",
        "1  Baldwin County  4.0       3.2        3.1       4.6   9.8  10.0   9.0   7.5   \n",
        "2  Barbour County  5.8       5.7        6.3       8.8  14.3  12.3  11.6  11.6   \n",
        "3     Bibb County  4.5       4.2        4.1       5.8  13.3  11.4  10.5   8.5   \n",
        "4   Blount County  3.6       3.2        3.2       4.7  10.0   9.8   8.7   6.9   \n",
        "\n",
        "   2013  2014 State  \n",
        "0   6.3   5.9    AL  \n",
        "1   6.7   6.1    AL  \n",
        "2  10.4  10.8    AL  \n",
        "3   7.8   7.1    AL  \n",
        "4   6.3   6.1    AL  \n"
       ]
      }
     ],
     "prompt_number": 156
    },
    {
     "cell_type": "code",
     "collapsed": false,
     "input": [
      "print merged.dtypes"
     ],
     "language": "python",
     "metadata": {},
     "outputs": [
      {
       "output_type": "stream",
       "stream": "stdout",
       "text": [
        "County       object\n",
        "2005         object\n",
        "2006         object\n",
        "2007        float64\n",
        "2008        float64\n",
        "2009        float64\n",
        "2010        float64\n",
        "2011        float64\n",
        "2012        float64\n",
        "2013        float64\n",
        "2014        float64\n",
        "State        object\n",
        "dtype: object\n"
       ]
      }
     ],
     "prompt_number": 157
    },
    {
     "cell_type": "heading",
     "level": 2,
     "metadata": {},
     "source": [
      "Step 6: Merge the unemployment data with the SCF data"
     ]
    },
    {
     "cell_type": "code",
     "collapsed": false,
     "input": [
      "unemployment_data = pd.read_csv(\"data/unemployment_data/full_u.csv\")\n",
      "unemployment_data = unemployment_data.drop(\"Unnamed: 0\", axis=1)\n",
      "\n",
      "scf_counties_data = pd.read_csv(\"data/all_scf_counties.csv\", dtype={\"Zip3\":object})\n",
      "scf_counties_data = scf_counties_data.drop(\"Unnamed: 0\", axis=1)\n",
      "\n",
      "print unemployment_data.head()\n",
      "print scf_counties_data.head()"
     ],
     "language": "python",
     "metadata": {},
     "outputs": [
      {
       "output_type": "stream",
       "stream": "stdout",
       "text": [
        "           County      2005      2006  2007  2008      2009  2010  2011  2012  \\\n",
        "0  Autauga County  3.8       3.3        3.3       5.1   9.7   8.9   8.3   7.0   \n",
        "1  Baldwin County  4.0       3.2        3.1       4.6   9.8  10.0   9.0   7.5   \n",
        "2  Barbour County  5.8       5.7        6.3       8.8  14.3  12.3  11.6  11.6   \n",
        "3     Bibb County  4.5       4.2        4.1       5.8  13.3  11.4  10.5   8.5   \n",
        "4   Blount County  3.6       3.2        3.2       4.7  10.0   9.8   8.7   6.9   \n",
        "\n",
        "   2013  2014 State  \n",
        "0   6.3   5.9    AL  \n",
        "1   6.7   6.1    AL  \n",
        "2  10.4  10.8    AL  \n",
        "3   7.8   7.1    AL  \n",
        "4   6.3   6.1    AL  \n",
        "       City State Zip3              County\n",
        "0  MELVILLE    NY  005       Nassau County\n",
        "1  SAN JUAN    PR  006  San Juan Municipio\n",
        "2  SAN JUAN    PR  007  San Juan Municipio\n",
        "3  SAN JUAN    PR  008  San Juan Municipio\n",
        "4  SAN JUAN    PR  009  San Juan Municipio\n"
       ]
      }
     ],
     "prompt_number": 179
    },
    {
     "cell_type": "code",
     "collapsed": false,
     "input": [
      "scf_unemployment_data = pd.merge(scf_counties_data, unemployment_data, on=['County','State'], how='left')\n",
      "print scf_unemployment_data.head()"
     ],
     "language": "python",
     "metadata": {},
     "outputs": [
      {
       "output_type": "stream",
       "stream": "stdout",
       "text": [
        "       City State Zip3              County      2005      2006  2007  \\\n",
        "0  MELVILLE    NY  005       Nassau County  4.0       3.7        3.7   \n",
        "1  SAN JUAN    PR  006  San Juan Municipio  8.0       7.3        8.1   \n",
        "2  SAN JUAN    PR  007  San Juan Municipio  8.0       7.3        8.1   \n",
        "3  SAN JUAN    PR  008  San Juan Municipio  8.0       7.3        8.1   \n",
        "4  SAN JUAN    PR  009  San Juan Municipio  8.0       7.3        8.1   \n",
        "\n",
        "   2008      2009  2010  2011  2012  2013  2014  \n",
        "0       4.7   6.9   7.1   6.8     7   5.9   4.8  \n",
        "1       8.7  11.1  10.3  10.0     9   8.3   8.3  \n",
        "2       8.7  11.1  10.3  10.0     9   8.3   8.3  \n",
        "3       8.7  11.1  10.3  10.0     9   8.3   8.3  \n",
        "4       8.7  11.1  10.3  10.0     9   8.3   8.3  \n"
       ]
      }
     ],
     "prompt_number": 183
    },
    {
     "cell_type": "code",
     "collapsed": false,
     "input": [
      "scf_unemployment_data.to_csv(\"data/scf_unemployment_data.csv\")"
     ],
     "language": "python",
     "metadata": {},
     "outputs": [],
     "prompt_number": 184
    },
    {
     "cell_type": "heading",
     "level": 2,
     "metadata": {},
     "source": [
      "Step 7: Finally let's combine shit!"
     ]
    },
    {
     "cell_type": "code",
     "collapsed": false,
     "input": [
      "# unemployment data\n",
      "unemployment_data = pd.read_csv(\"data/scf_unemployment_data.csv\", dtype={'Zip3':object})\n",
      "unemployment_data = unemployment_data.drop([\"Unnamed: 0\", \"City\"], axis=1)\n",
      "unemployment_data.columns = [\"state\",\"zip_code\",\"county\",\"u2005\",\"u2006\",\"u2007\",\"u2008\",\"u2009\",\"u2010\",\"u2011\",\"u2012\",\"u2013\",\"u2014\"]\n",
      "print unemployment_data.head()\n",
      "\n",
      "# lending club data\n",
      "lc_df = pd.read_csv(\"joined.csv\", parse_dates=[\"issue_d\"])\n",
      "lc_df = lc_df.drop(\"Unnamed: 0\", axis=1)\n",
      "print lc_df.head()"
     ],
     "language": "python",
     "metadata": {},
     "outputs": [
      {
       "output_type": "stream",
       "stream": "stdout",
       "text": [
        "  state zip_code              county     u2005     u2006  u2007  u2008  u2009  \\\n",
        "0    NY      005       Nassau County  4.0       3.7         3.7    4.7    6.9   \n",
        "1    PR      006  San Juan Municipio  8.0       7.3         8.1    8.7   11.1   \n",
        "2    PR      007  San Juan Municipio  8.0       7.3         8.1    8.7   11.1   \n",
        "3    PR      008  San Juan Municipio  8.0       7.3         8.1    8.7   11.1   \n",
        "4    PR      009  San Juan Municipio  8.0       7.3         8.1    8.7   11.1   \n",
        "\n",
        "   u2010  u2011  u2012  u2013  u2014  \n",
        "0    7.1    6.8      7    5.9    4.8  \n",
        "1   10.3   10.0      9    8.3    8.3  \n",
        "2   10.3   10.0      9    8.3    8.3  \n",
        "3   10.3   10.0      9    8.3    8.3  \n",
        "4   10.3   10.0      9    8.3    8.3  \n",
        "      id  firstMissed censored   n  receivedAfterMissed  dueWhenFirstMissed  \\\n",
        "0  54734           -1     True  26                    0            0.000000   \n",
        "1  55742           -1     True  36                    0            0.000000   \n",
        "2  56413           -1     True  14                    0            0.000000   \n",
        "3  57167            4    False   7                    0        23108.329138   \n",
        "4  57245           -1     True  36                    0            0.000000   \n",
        "\n",
        "   member_id  loan_amnt  funded_amnt  funded_amnt_inv      ...       \\\n",
        "0      80364      25000        25000     19080.057198      ...        \n",
        "1     114426       7000         7000       672.803839      ...        \n",
        "2     129814       7000         7000         0.007494      ...        \n",
        "3     137225      25000        25000     24725.000000      ...        \n",
        "4     138150       1200         1200      1200.000000      ...        \n",
        "\n",
        "  last_pymnt_d last_pymnt_amnt  next_pymnt_d last_credit_pull_d  \\\n",
        "0   2011-10-01         7392.08           NaN         2012-08-01   \n",
        "1   2011-06-01          228.48           NaN         2012-08-01   \n",
        "2   2008-10-01          246.38    2009-06-01         2009-06-01   \n",
        "3   2014-12-01          935.76           NaN         2015-04-01   \n",
        "4   2013-03-01           42.73           NaN         2013-03-01   \n",
        "\n",
        "  last_fico_range_high last_fico_range_low collections_12_mths_ex_med  \\\n",
        "0                  789                 785                          0   \n",
        "1                  679                 675                          0   \n",
        "2                  499                   0                          0   \n",
        "3                  539                 535                          0   \n",
        "4                  709                 705                          0   \n",
        "\n",
        "  mths_since_last_major_derog  policy_code credit_policy  \n",
        "0                         NaN            1             1  \n",
        "1                         NaN            1             1  \n",
        "2                         NaN            1             0  \n",
        "3                         NaN            1             1  \n",
        "4                         NaN            1             1  \n",
        "\n",
        "[5 rows x 62 columns]"
       ]
      },
      {
       "output_type": "stream",
       "stream": "stdout",
       "text": [
        "\n"
       ]
      },
      {
       "output_type": "stream",
       "stream": "stderr",
       "text": [
        "/usr/local/lib/python2.7/dist-packages/pandas/io/parsers.py:1170: DtypeWarning: Columns (25) have mixed types. Specify dtype option on import or set low_memory=False.\n",
        "  data = self._reader.read(nrows)\n"
       ]
      }
     ],
     "prompt_number": 3
    },
    {
     "cell_type": "code",
     "collapsed": false,
     "input": [
      "# remove last 2 x's from zip_code column in lending club data\n",
      "lc_df.zip_code = lc_df.zip_code.apply(lambda x: x[:-2])\n",
      "print lc_df.zip_code.head()"
     ],
     "language": "python",
     "metadata": {},
     "outputs": [
      {
       "output_type": "stream",
       "stream": "stdout",
       "text": [
        "0    941\n",
        "1    112\n",
        "2    956\n",
        "3    100\n",
        "4    777\n",
        "Name: zip_code, dtype: object\n"
       ]
      }
     ],
     "prompt_number": 4
    },
    {
     "cell_type": "code",
     "collapsed": false,
     "input": [
      "# merge the economic and lending club data\n",
      "economic_lc_data = pd.merge(lc_df, unemployment_data, on=['zip_code'], how='left')"
     ],
     "language": "python",
     "metadata": {},
     "outputs": [],
     "prompt_number": 5
    },
    {
     "cell_type": "code",
     "collapsed": false,
     "input": [
      "# 814 problem rows that are null (this is due to actual issues with the zipcodes)\n",
      "print np.unique(economic_lc_data[economic_lc_data[\"u2005\"].isnull()].zip_code)\n",
      "# '090' '091' '092' '093' '094' '096' '098' '340' '962' '963' '965' '969' all represent intl armed forces"
     ],
     "language": "python",
     "metadata": {},
     "outputs": [
      {
       "output_type": "stream",
       "stream": "stdout",
       "text": [
        "['090' '091' '092' '093' '094' '096' '098' '340' '353' '429' '569' '621'\n",
        " '643' '663' '682' '851' '854' '861' '888' '909' '929' '962' '963' '965'\n",
        " '969']\n"
       ]
      }
     ],
     "prompt_number": 6
    },
    {
     "cell_type": "code",
     "collapsed": false,
     "input": [
      "# create smaller dataset to get the job done\n",
      "economic_lc_tractable = economic_lc_data[[\"id\",\"issue_d\",\"u2005\",\"u2006\",\"u2007\",\"u2008\",\"u2009\",\"u2010\",\"u2011\",\"u2012\",\"u2013\",\"u2014\"]]"
     ],
     "language": "python",
     "metadata": {},
     "outputs": [],
     "prompt_number": 10
    },
    {
     "cell_type": "code",
     "collapsed": false,
     "input": [
      "# create the column for unemployment rates for the county in the preceding year\n",
      "economic_lc_tractable['county_unemployment_-1'] = [row[\"u\" + str(row.issue_d.year-1)] for (i, row) in economic_lc_tractable.iterrows()]"
     ],
     "language": "python",
     "metadata": {},
     "outputs": [],
     "prompt_number": 11
    },
    {
     "cell_type": "code",
     "collapsed": false,
     "input": [
      "# create the column for unemployment rates for the county 2 years ago\n",
      "economic_lc_tractable['county_unemployment_-2'] = [row[\"u\" + str(row.issue_d.year-2)] for (i, row) in economic_lc_tractable.iterrows()]"
     ],
     "language": "python",
     "metadata": {},
     "outputs": [],
     "prompt_number": 13
    },
    {
     "cell_type": "code",
     "collapsed": false,
     "input": [
      "print economic_lc_tractable[[\"id\",\"issue_d\",\"county_unemployment_-1\",\"county_unemployment_-2\"]].dtypes"
     ],
     "language": "python",
     "metadata": {},
     "outputs": [
      {
       "output_type": "stream",
       "stream": "stdout",
       "text": [
        "id                                 int64\n",
        "issue_d                   datetime64[ns]\n",
        "county_unemployment_-1            object\n",
        "county_unemployment_-2            object\n",
        "dtype: object\n"
       ]
      }
     ],
     "prompt_number": 15
    },
    {
     "cell_type": "code",
     "collapsed": false,
     "input": [
      "# merge the relevant unemployment rate data back into the dataset and cleanup\n",
      "economic_lc_tractable = economic_lc_tractable.drop([\"issue_d\",\"u2005\",\"u2006\",\"u2007\",\"u2008\",\"u2009\",\"u2010\",\"u2011\",\"u2012\",\"u2013\",\"u2014\"], axis = 1)\n",
      "economic_lc_data = pd.merge(economic_lc_data, economic_lc_tractable, on=['id'], how='left')\n",
      "economic_lc_data = economic_lc_data.drop([\"u2005\",\"u2006\",\"u2007\",\"u2008\",\"u2009\",\"u2010\",\"u2011\",\"u2012\",\"u2013\",\"u2014\"], axis = 1)\n",
      "economic_lc_data.head()"
     ],
     "language": "python",
     "metadata": {},
     "outputs": [
      {
       "html": [
        "<div style=\"max-height:1000px;max-width:1500px;overflow:auto;\">\n",
        "<table border=\"1\" class=\"dataframe\">\n",
        "  <thead>\n",
        "    <tr style=\"text-align: right;\">\n",
        "      <th></th>\n",
        "      <th>id</th>\n",
        "      <th>firstMissed</th>\n",
        "      <th>censored</th>\n",
        "      <th>n</th>\n",
        "      <th>receivedAfterMissed</th>\n",
        "      <th>dueWhenFirstMissed</th>\n",
        "      <th>member_id</th>\n",
        "      <th>loan_amnt</th>\n",
        "      <th>funded_amnt</th>\n",
        "      <th>funded_amnt_inv</th>\n",
        "      <th>...</th>\n",
        "      <th>last_fico_range_high</th>\n",
        "      <th>last_fico_range_low</th>\n",
        "      <th>collections_12_mths_ex_med</th>\n",
        "      <th>mths_since_last_major_derog</th>\n",
        "      <th>policy_code</th>\n",
        "      <th>credit_policy</th>\n",
        "      <th>state</th>\n",
        "      <th>county</th>\n",
        "      <th>county_unemployment_-1</th>\n",
        "      <th>county_unemployment_-2</th>\n",
        "    </tr>\n",
        "  </thead>\n",
        "  <tbody>\n",
        "    <tr>\n",
        "      <th>0</th>\n",
        "      <td>54734</td>\n",
        "      <td>-1</td>\n",
        "      <td>True</td>\n",
        "      <td>26</td>\n",
        "      <td>0</td>\n",
        "      <td>0.000000</td>\n",
        "      <td>80364</td>\n",
        "      <td>25000</td>\n",
        "      <td>25000</td>\n",
        "      <td>19080.057198</td>\n",
        "      <td>...</td>\n",
        "      <td>789</td>\n",
        "      <td>785</td>\n",
        "      <td>0</td>\n",
        "      <td>NaN</td>\n",
        "      <td>1</td>\n",
        "      <td>1</td>\n",
        "      <td>CA</td>\n",
        "      <td>San Francisco County</td>\n",
        "      <td>5.3</td>\n",
        "      <td>4.2</td>\n",
        "    </tr>\n",
        "    <tr>\n",
        "      <th>1</th>\n",
        "      <td>55742</td>\n",
        "      <td>-1</td>\n",
        "      <td>True</td>\n",
        "      <td>36</td>\n",
        "      <td>0</td>\n",
        "      <td>0.000000</td>\n",
        "      <td>114426</td>\n",
        "      <td>7000</td>\n",
        "      <td>7000</td>\n",
        "      <td>672.803839</td>\n",
        "      <td>...</td>\n",
        "      <td>679</td>\n",
        "      <td>675</td>\n",
        "      <td>0</td>\n",
        "      <td>NaN</td>\n",
        "      <td>1</td>\n",
        "      <td>1</td>\n",
        "      <td>NY</td>\n",
        "      <td>Kings County</td>\n",
        "      <td>5.4</td>\n",
        "      <td>5.4</td>\n",
        "    </tr>\n",
        "    <tr>\n",
        "      <th>2</th>\n",
        "      <td>56413</td>\n",
        "      <td>-1</td>\n",
        "      <td>True</td>\n",
        "      <td>14</td>\n",
        "      <td>0</td>\n",
        "      <td>0.000000</td>\n",
        "      <td>129814</td>\n",
        "      <td>7000</td>\n",
        "      <td>7000</td>\n",
        "      <td>0.007494</td>\n",
        "      <td>...</td>\n",
        "      <td>499</td>\n",
        "      <td>0</td>\n",
        "      <td>0</td>\n",
        "      <td>NaN</td>\n",
        "      <td>1</td>\n",
        "      <td>0</td>\n",
        "      <td>CA</td>\n",
        "      <td>Yolo County</td>\n",
        "      <td>5.7</td>\n",
        "      <td>5.2</td>\n",
        "    </tr>\n",
        "    <tr>\n",
        "      <th>3</th>\n",
        "      <td>57167</td>\n",
        "      <td>4</td>\n",
        "      <td>False</td>\n",
        "      <td>7</td>\n",
        "      <td>0</td>\n",
        "      <td>23108.329138</td>\n",
        "      <td>137225</td>\n",
        "      <td>25000</td>\n",
        "      <td>25000</td>\n",
        "      <td>24725.000000</td>\n",
        "      <td>...</td>\n",
        "      <td>539</td>\n",
        "      <td>535</td>\n",
        "      <td>0</td>\n",
        "      <td>NaN</td>\n",
        "      <td>1</td>\n",
        "      <td>1</td>\n",
        "      <td>NY</td>\n",
        "      <td>New York County</td>\n",
        "      <td>7.4</td>\n",
        "      <td>8</td>\n",
        "    </tr>\n",
        "    <tr>\n",
        "      <th>4</th>\n",
        "      <td>57245</td>\n",
        "      <td>-1</td>\n",
        "      <td>True</td>\n",
        "      <td>36</td>\n",
        "      <td>0</td>\n",
        "      <td>0.000000</td>\n",
        "      <td>138150</td>\n",
        "      <td>1200</td>\n",
        "      <td>1200</td>\n",
        "      <td>1200.000000</td>\n",
        "      <td>...</td>\n",
        "      <td>709</td>\n",
        "      <td>705</td>\n",
        "      <td>0</td>\n",
        "      <td>NaN</td>\n",
        "      <td>1</td>\n",
        "      <td>1</td>\n",
        "      <td>TX</td>\n",
        "      <td>Jefferson County</td>\n",
        "      <td>9.5</td>\n",
        "      <td>6.6</td>\n",
        "    </tr>\n",
        "  </tbody>\n",
        "</table>\n",
        "<p>5 rows \u00d7 66 columns</p>\n",
        "</div>"
       ],
       "metadata": {},
       "output_type": "pyout",
       "prompt_number": 16,
       "text": [
        "      id  firstMissed censored   n  receivedAfterMissed  dueWhenFirstMissed  \\\n",
        "0  54734           -1     True  26                    0            0.000000   \n",
        "1  55742           -1     True  36                    0            0.000000   \n",
        "2  56413           -1     True  14                    0            0.000000   \n",
        "3  57167            4    False   7                    0        23108.329138   \n",
        "4  57245           -1     True  36                    0            0.000000   \n",
        "\n",
        "   member_id  loan_amnt  funded_amnt  funded_amnt_inv          ...            \\\n",
        "0      80364      25000        25000     19080.057198          ...             \n",
        "1     114426       7000         7000       672.803839          ...             \n",
        "2     129814       7000         7000         0.007494          ...             \n",
        "3     137225      25000        25000     24725.000000          ...             \n",
        "4     138150       1200         1200      1200.000000          ...             \n",
        "\n",
        "  last_fico_range_high last_fico_range_low  collections_12_mths_ex_med  \\\n",
        "0                  789                 785                           0   \n",
        "1                  679                 675                           0   \n",
        "2                  499                   0                           0   \n",
        "3                  539                 535                           0   \n",
        "4                  709                 705                           0   \n",
        "\n",
        "  mths_since_last_major_derog policy_code credit_policy state  \\\n",
        "0                         NaN           1             1    CA   \n",
        "1                         NaN           1             1    NY   \n",
        "2                         NaN           1             0    CA   \n",
        "3                         NaN           1             1    NY   \n",
        "4                         NaN           1             1    TX   \n",
        "\n",
        "                 county  county_unemployment_-1 county_unemployment_-2  \n",
        "0  San Francisco County                     5.3                    4.2  \n",
        "1          Kings County                     5.4               5.4       \n",
        "2           Yolo County                     5.7               5.2       \n",
        "3       New York County                     7.4                      8  \n",
        "4      Jefferson County                     9.5                    6.6  \n",
        "\n",
        "[5 rows x 66 columns]"
       ]
      }
     ],
     "prompt_number": 16
    },
    {
     "cell_type": "code",
     "collapsed": false,
     "input": [
      "# convert unemployment rates to float (rather than obj)\n",
      "economic_lc_data[[\"county_unemployment_-1\",\"county_unemployment_-2\"]] = economic_lc_data[[\"county_unemployment_-1\",\"county_unemployment_-2\"]].convert_objects(convert_numeric=True)\n",
      "\n",
      "# create column for if a borrow is an internationally stationed military person\n",
      "intl_mil_zips = ['090','091','092','093','094','096','098','340','962','963','965','969']\n",
      "economic_lc_data[\"intl_military\"] = [ zipcode in intl_mil_zips for zipcode in economic_lc_data.zip_code ]"
     ],
     "language": "python",
     "metadata": {},
     "outputs": [
      {
       "metadata": {},
       "output_type": "pyout",
       "prompt_number": 19,
       "text": [
        "id                                      int64\n",
        "firstMissed                             int64\n",
        "censored                                 bool\n",
        "n                                       int64\n",
        "receivedAfterMissed                   float64\n",
        "dueWhenFirstMissed                    float64\n",
        "member_id                               int64\n",
        "loan_amnt                               int64\n",
        "funded_amnt                             int64\n",
        "funded_amnt_inv                       float64\n",
        "term                                   object\n",
        "int_rate                               object\n",
        "installment                           float64\n",
        "grade                                  object\n",
        "sub_grade                              object\n",
        "emp_title                              object\n",
        "emp_length                             object\n",
        "home_ownership                         object\n",
        "annual_inc                            float64\n",
        "verification_status                    object\n",
        "issue_d                        datetime64[ns]\n",
        "loan_status                            object\n",
        "pymnt_plan                             object\n",
        "url                                    object\n",
        "desc                                   object\n",
        "purpose                                object\n",
        "title                                  object\n",
        "zip_code                               object\n",
        "addr_state                             object\n",
        "dti                                   float64\n",
        "                                    ...      \n",
        "open_acc                              float64\n",
        "pub_rec                               float64\n",
        "revol_bal                               int64\n",
        "revol_util                             object\n",
        "total_acc                             float64\n",
        "initial_list_status                    object\n",
        "out_prncp                             float64\n",
        "out_prncp_inv                         float64\n",
        "total_pymnt                           float64\n",
        "total_pymnt_inv                       float64\n",
        "total_rec_prncp                       float64\n",
        "total_rec_int                         float64\n",
        "total_rec_late_fee                    float64\n",
        "recoveries                            float64\n",
        "collection_recovery_fee               float64\n",
        "last_pymnt_d                           object\n",
        "last_pymnt_amnt                       float64\n",
        "next_pymnt_d                           object\n",
        "last_credit_pull_d                     object\n",
        "last_fico_range_high                    int64\n",
        "last_fico_range_low                     int64\n",
        "collections_12_mths_ex_med            float64\n",
        "mths_since_last_major_derog           float64\n",
        "policy_code                             int64\n",
        "credit_policy                           int64\n",
        "state                                  object\n",
        "county                                 object\n",
        "county_unemployment_-1                float64\n",
        "county_unemployment_-2                float64\n",
        "intl_military                            bool\n",
        "dtype: object"
       ]
      }
     ],
     "prompt_number": 19
    },
    {
     "cell_type": "heading",
     "level": 4,
     "metadata": {},
     "source": [
      "Write out data, with preceding 2 years of county level unemployment and intl military columns"
     ]
    },
    {
     "cell_type": "code",
     "collapsed": false,
     "input": [
      "economic_lc_data.to_csv(\"joined_economic.csv\")"
     ],
     "language": "python",
     "metadata": {},
     "outputs": [],
     "prompt_number": 24
    },
    {
     "cell_type": "heading",
     "level": 2,
     "metadata": {},
     "source": [
      "Today's Goals"
     ]
    },
    {
     "cell_type": "markdown",
     "metadata": {},
     "source": [
      "* Seasonality of features\n",
      "* Research concordance index and survival model performance measures"
     ]
    },
    {
     "cell_type": "heading",
     "level": 2,
     "metadata": {},
     "source": [
      "Get the Data"
     ]
    },
    {
     "cell_type": "code",
     "collapsed": false,
     "input": [
      "lc_df = pd.read_csv(\"joined.csv\", parse_dates=[\"issue_d\"])\n",
      "lc_df = lc_df.drop(\"Unnamed: 0\", axis=1)"
     ],
     "language": "python",
     "metadata": {},
     "outputs": [
      {
       "output_type": "stream",
       "stream": "stderr",
       "text": [
        "/usr/local/lib/python2.7/dist-packages/pandas/io/parsers.py:1170: DtypeWarning: Columns (25) have mixed types. Specify dtype option on import or set low_memory=False.\n",
        "  data = self._reader.read(nrows)\n"
       ]
      }
     ],
     "prompt_number": 106
    },
    {
     "cell_type": "code",
     "collapsed": false,
     "input": [
      "#u_df = pd.read_csv(\"data/state_unemployment.csv\")\n",
      "#u_df = u_df.drop(\"Rank\", axis=1)\n",
      "print len(np.unique(lc_df.zip_code))\n",
      "print lc_df.zip_code.min()\n",
      "print lc_df.zip_code.max()\n",
      "\n",
      "print len(np.unique(all_scf_counties_df.Zip3))\n",
      "print all_scf_counties_df.Zip3.min()\n",
      "print all_scf_counties_df.Zip3.max()\n"
     ],
     "language": "python",
     "metadata": {},
     "outputs": [
      {
       "output_type": "stream",
       "stream": "stdout",
       "text": [
        "893\n",
        "007xx\n",
        "999xx"
       ]
      },
      {
       "output_type": "stream",
       "stream": "stdout",
       "text": [
        "\n",
        "915\n",
        "005\n",
        "999\n"
       ]
      }
     ],
     "prompt_number": 109
    },
    {
     "cell_type": "code",
     "collapsed": false,
     "input": [
      "state_prefixes = {\n",
      "        'AK': 'Alaska',\n",
      "        'AL': 'Alabama',\n",
      "        'AR': 'Arkansas',\n",
      "        'AS': 'American Samoa',\n",
      "        'AZ': 'Arizona',\n",
      "        'CA': 'California',\n",
      "        'CO': 'Colorado',\n",
      "        'CT': 'Connecticut',\n",
      "        'DC': 'District of Columbia',\n",
      "        'DE': 'Delaware',\n",
      "        'FL': 'Florida',\n",
      "        'GA': 'Georgia',\n",
      "        'GU': 'Guam',\n",
      "        'HI': 'Hawaii',\n",
      "        'IA': 'Iowa',\n",
      "        'ID': 'Idaho',\n",
      "        'IL': 'Illinois',\n",
      "        'IN': 'Indiana',\n",
      "        'KS': 'Kansas',\n",
      "        'KY': 'Kentucky',\n",
      "        'LA': 'Louisiana',\n",
      "        'MA': 'Massachusetts',\n",
      "        'MD': 'Maryland',\n",
      "        'ME': 'Maine',\n",
      "        'MI': 'Michigan',\n",
      "        'MN': 'Minnesota',\n",
      "        'MO': 'Missouri',\n",
      "        'MP': 'Northern Mariana Islands',\n",
      "        'MS': 'Mississippi',\n",
      "        'MT': 'Montana',\n",
      "        'NA': 'National',\n",
      "        'NC': 'North Carolina',\n",
      "        'ND': 'North Dakota',\n",
      "        'NE': 'Nebraska',\n",
      "        'NH': 'New Hampshire',\n",
      "        'NJ': 'New Jersey',\n",
      "        'NM': 'New Mexico',\n",
      "        'NV': 'Nevada',\n",
      "        'NY': 'New York',\n",
      "        'OH': 'Ohio',\n",
      "        'OK': 'Oklahoma',\n",
      "        'OR': 'Oregon',\n",
      "        'PA': 'Pennsylvania',\n",
      "        'PR': 'Puerto Rico',\n",
      "        'RI': 'Rhode Island',\n",
      "        'SC': 'South Carolina',\n",
      "        'SD': 'South Dakota',\n",
      "        'TN': 'Tennessee',\n",
      "        'TX': 'Texas',\n",
      "        'UT': 'Utah',\n",
      "        'VA': 'Virginia',\n",
      "        'VI': 'Virgin Islands',\n",
      "        'VT': 'Vermont',\n",
      "        'WA': 'Washington',\n",
      "        'WI': 'Wisconsin',\n",
      "        'WV': 'West Virginia',\n",
      "        'WY': 'Wyoming'\n",
      "}\n",
      "#state_prefixes = {v.upper(): k for k, v in state_prefixes.items()}\n",
      "#u_df.State = u_df.State.apply(lambda state: state_prefixes[state])"
     ],
     "language": "python",
     "metadata": {},
     "outputs": [],
     "prompt_number": 123
    },
    {
     "cell_type": "code",
     "collapsed": false,
     "input": [
      "#u_df.columns = [\"addr_state\",\"state_unemployment\",\"state_unemployment_change\"]\n",
      "#u_df.head()"
     ],
     "language": "python",
     "metadata": {},
     "outputs": [],
     "prompt_number": 125
    },
    {
     "cell_type": "code",
     "collapsed": false,
     "input": [
      "# full_df = pd.merge(lc_df, u_df, how=\"outer\", on=\"addr_state\")\n",
      "print np.unique(lc_df.zip_code)"
     ],
     "language": "python",
     "metadata": {},
     "outputs": [
      {
       "output_type": "stream",
       "stream": "stdout",
       "text": [
        "['007xx' '008xx' '010xx' '011xx' '012xx' '013xx' '014xx' '015xx' '016xx'\n",
        " '017xx' '018xx' '019xx' '020xx' '021xx' '022xx' '023xx' '024xx' '025xx'\n",
        " '026xx' '027xx' '028xx' '029xx' '030xx' '031xx' '032xx' '033xx' '034xx'\n",
        " '035xx' '036xx' '037xx' '038xx' '040xx' '041xx' '043xx' '044xx' '045xx'\n",
        " '049xx' '050xx' '051xx' '052xx' '053xx' '054xx' '056xx' '057xx' '058xx'\n",
        " '059xx' '060xx' '061xx' '062xx' '063xx' '064xx' '065xx' '066xx' '067xx'\n",
        " '068xx' '069xx' '070xx' '071xx' '072xx' '073xx' '074xx' '075xx' '076xx'\n",
        " '077xx' '078xx' '079xx' '080xx' '081xx' '082xx' '083xx' '084xx' '085xx'\n",
        " '086xx' '087xx' '088xx' '089xx' '090xx' '091xx' '092xx' '093xx' '094xx'\n",
        " '096xx' '098xx' '100xx' '101xx' '102xx' '103xx' '104xx' '105xx' '106xx'\n",
        " '107xx' '108xx' '109xx' '110xx' '111xx' '112xx' '113xx' '114xx' '115xx'\n",
        " '116xx' '117xx' '118xx' '119xx' '120xx' '121xx' '122xx' '123xx' '124xx'\n",
        " '125xx' '126xx' '127xx' '128xx' '129xx' '130xx' '131xx' '132xx' '133xx'\n",
        " '134xx' '135xx' '136xx' '137xx' '138xx' '139xx' '140xx' '141xx' '142xx'\n",
        " '143xx' '144xx' '145xx' '146xx' '147xx' '148xx' '149xx' '150xx' '151xx'\n",
        " '152xx' '153xx' '154xx' '155xx' '156xx' '157xx' '158xx' '159xx' '160xx'\n",
        " '161xx' '162xx' '163xx' '164xx' '165xx' '166xx' '167xx' '168xx' '169xx'\n",
        " '170xx' '171xx' '172xx' '173xx' '174xx' '175xx' '176xx' '177xx' '178xx'\n",
        " '179xx' '180xx' '181xx' '182xx' '183xx' '184xx' '185xx' '186xx' '187xx'\n",
        " '188xx' '189xx' '190xx' '191xx' '193xx' '194xx' '195xx' '196xx' '197xx'\n",
        " '198xx' '199xx' '200xx' '201xx' '203xx' '204xx' '206xx' '207xx' '208xx'\n",
        " '209xx' '210xx' '211xx' '212xx' '214xx' '215xx' '216xx' '217xx' '218xx'\n",
        " '219xx' '220xx' '221xx' '222xx' '223xx' '224xx' '225xx' '226xx' '227xx'\n",
        " '228xx' '229xx' '230xx' '231xx' '232xx' '233xx' '234xx' '235xx' '236xx'\n",
        " '237xx' '238xx' '239xx' '240xx' '241xx' '242xx' '243xx' '244xx' '245xx'\n",
        " '246xx' '247xx' '248xx' '249xx' '250xx' '251xx' '252xx' '253xx' '254xx'\n",
        " '255xx' '256xx' '257xx' '258xx' '259xx' '260xx' '261xx' '262xx' '263xx'\n",
        " '264xx' '265xx' '266xx' '267xx' '268xx' '270xx' '271xx' '272xx' '273xx'\n",
        " '274xx' '275xx' '276xx' '277xx' '278xx' '279xx' '280xx' '281xx' '282xx'\n",
        " '283xx' '284xx' '285xx' '286xx' '287xx' '288xx' '289xx' '290xx' '291xx'\n",
        " '292xx' '293xx' '294xx' '295xx' '296xx' '297xx' '298xx' '299xx' '300xx'\n",
        " '301xx' '302xx' '303xx' '304xx' '305xx' '306xx' '307xx' '308xx' '309xx'\n",
        " '310xx' '311xx' '312xx' '313xx' '314xx' '315xx' '316xx' '317xx' '318xx'\n",
        " '319xx' '320xx' '321xx' '322xx' '323xx' '324xx' '325xx' '326xx' '327xx'\n",
        " '328xx' '329xx' '330xx' '331xx' '332xx' '333xx' '334xx' '335xx' '336xx'\n",
        " '337xx' '338xx' '339xx' '340xx' '341xx' '342xx' '344xx' '346xx' '347xx'\n",
        " '349xx' '350xx' '351xx' '352xx' '353xx' '354xx' '355xx' '356xx' '357xx'\n",
        " '358xx' '359xx' '360xx' '361xx' '362xx' '363xx' '364xx' '365xx' '366xx'\n",
        " '367xx' '368xx' '369xx' '370xx' '371xx' '372xx' '373xx' '374xx' '375xx'\n",
        " '376xx' '377xx' '378xx' '379xx' '380xx' '381xx' '382xx' '383xx' '384xx'\n",
        " '385xx' '386xx' '387xx' '388xx' '389xx' '390xx' '391xx' '392xx' '393xx'\n",
        " '394xx' '395xx' '396xx' '397xx' '398xx' '400xx' '401xx' '402xx' '403xx'\n",
        " '404xx' '405xx' '406xx' '407xx' '408xx' '409xx' '410xx' '411xx' '412xx'\n",
        " '413xx' '414xx' '415xx' '416xx' '417xx' '418xx' '420xx' '421xx' '422xx'\n",
        " '423xx' '424xx' '425xx' '426xx' '427xx' '429xx' '430xx' '431xx' '432xx'\n",
        " '433xx' '434xx' '435xx' '436xx' '437xx' '438xx' '439xx' '440xx' '441xx'\n",
        " '442xx' '443xx' '444xx' '445xx' '446xx' '447xx' '448xx' '449xx' '450xx'\n",
        " '451xx' '452xx' '453xx' '454xx' '455xx' '456xx' '457xx' '458xx' '460xx'\n",
        " '461xx' '462xx' '463xx' '464xx' '465xx' '466xx' '467xx' '468xx' '469xx'\n",
        " '470xx' '471xx' '472xx' '473xx' '474xx' '475xx' '476xx' '477xx' '478xx'\n",
        " '479xx' '480xx' '481xx' '482xx' '483xx' '484xx' '485xx' '486xx' '487xx'\n",
        " '488xx' '489xx' '490xx' '491xx' '492xx' '493xx' '494xx' '495xx' '496xx'\n",
        " '497xx' '498xx' '499xx' '500xx' '502xx' '503xx' '507xx' '510xx' '511xx'\n",
        " '513xx' '514xx' '516xx' '522xx' '523xx' '524xx' '527xx' '528xx' '530xx'\n",
        " '531xx' '532xx' '534xx' '535xx' '537xx' '538xx' '539xx' '540xx' '541xx'\n",
        " '542xx' '543xx' '544xx' '545xx' '546xx' '547xx' '548xx' '549xx' '550xx'\n",
        " '551xx' '553xx' '554xx' '555xx' '556xx' '557xx' '558xx' '559xx' '560xx'\n",
        " '561xx' '562xx' '563xx' '564xx' '565xx' '566xx' '567xx' '569xx' '570xx'\n",
        " '571xx' '572xx' '573xx' '574xx' '575xx' '576xx' '577xx' '580xx' '582xx'\n",
        " '587xx' '590xx' '591xx' '592xx' '593xx' '594xx' '595xx' '596xx' '597xx'\n",
        " '598xx' '599xx' '600xx' '601xx' '602xx' '603xx' '604xx' '605xx' '606xx'\n",
        " '607xx' '608xx' '609xx' '610xx' '611xx' '612xx' '613xx' '614xx' '615xx'\n",
        " '616xx' '617xx' '618xx' '619xx' '620xx' '621xx' '622xx' '623xx' '624xx'\n",
        " '625xx' '626xx' '627xx' '628xx' '629xx' '630xx' '631xx' '633xx' '634xx'\n",
        " '635xx' '636xx' '637xx' '638xx' '639xx' '640xx' '641xx' '643xx' '644xx'\n",
        " '645xx' '646xx' '647xx' '648xx' '650xx' '651xx' '652xx' '653xx' '654xx'\n",
        " '655xx' '656xx' '657xx' '658xx' '660xx' '661xx' '662xx' '663xx' '664xx'\n",
        " '665xx' '666xx' '667xx' '668xx' '669xx' '670xx' '671xx' '672xx' '673xx'\n",
        " '674xx' '675xx' '676xx' '677xx' '678xx' '679xx' '680xx' '681xx' '682xx'\n",
        " '685xx' '689xx' '691xx' '693xx' '700xx' '701xx' '703xx' '704xx' '705xx'\n",
        " '706xx' '707xx' '708xx' '710xx' '711xx' '712xx' '713xx' '714xx' '716xx'\n",
        " '717xx' '718xx' '719xx' '720xx' '721xx' '722xx' '723xx' '724xx' '725xx'\n",
        " '726xx' '727xx' '728xx' '729xx' '730xx' '731xx' '734xx' '735xx' '736xx'\n",
        " '737xx' '738xx' '739xx' '740xx' '741xx' '743xx' '744xx' '745xx' '746xx'\n",
        " '747xx' '748xx' '749xx' '750xx' '751xx' '752xx' '753xx' '754xx' '755xx'\n",
        " '756xx' '757xx' '758xx' '759xx' '760xx' '761xx' '762xx' '763xx' '764xx'\n",
        " '765xx' '766xx' '767xx' '768xx' '769xx' '770xx' '772xx' '773xx' '774xx'\n",
        " '775xx' '776xx' '777xx' '778xx' '779xx' '780xx' '781xx' '782xx' '783xx'\n",
        " '784xx' '785xx' '786xx' '787xx' '788xx' '789xx' '790xx' '791xx' '792xx'\n",
        " '793xx' '794xx' '795xx' '796xx' '797xx' '798xx' '799xx' '800xx' '801xx'\n",
        " '802xx' '803xx' '804xx' '805xx' '806xx' '807xx' '808xx' '809xx' '810xx'\n",
        " '811xx' '812xx' '813xx' '814xx' '815xx' '816xx' '820xx' '821xx' '822xx'\n",
        " '823xx' '824xx' '825xx' '826xx' '827xx' '828xx' '829xx' '830xx' '831xx'\n",
        " '832xx' '833xx' '834xx' '836xx' '837xx' '838xx' '840xx' '841xx' '843xx'\n",
        " '844xx' '845xx' '846xx' '847xx' '850xx' '851xx' '852xx' '853xx' '854xx'\n",
        " '855xx' '856xx' '857xx' '859xx' '860xx' '861xx' '863xx' '864xx' '865xx'\n",
        " '870xx' '871xx' '873xx' '874xx' '875xx' '877xx' '878xx' '879xx' '880xx'\n",
        " '881xx' '882xx' '883xx' '884xx' '888xx' '889xx' '890xx' '891xx' '893xx'\n",
        " '894xx' '895xx' '897xx' '898xx' '900xx' '901xx' '902xx' '903xx' '904xx'\n",
        " '905xx' '906xx' '907xx' '908xx' '909xx' '910xx' '911xx' '912xx' '913xx'\n",
        " '914xx' '915xx' '916xx' '917xx' '918xx' '919xx' '920xx' '921xx' '922xx'\n",
        " '923xx' '924xx' '925xx' '926xx' '927xx' '928xx' '929xx' '930xx' '931xx'\n",
        " '932xx' '933xx' '934xx' '935xx' '936xx' '937xx' '938xx' '939xx' '940xx'\n",
        " '941xx' '942xx' '943xx' '944xx' '945xx' '946xx' '947xx' '948xx' '949xx'\n",
        " '950xx' '951xx' '952xx' '953xx' '954xx' '955xx' '956xx' '957xx' '958xx'\n",
        " '959xx' '960xx' '961xx' '962xx' '963xx' '965xx' '967xx' '968xx' '969xx'\n",
        " '970xx' '971xx' '972xx' '973xx' '974xx' '975xx' '976xx' '977xx' '978xx'\n",
        " '979xx' '980xx' '981xx' '982xx' '983xx' '984xx' '985xx' '986xx' '988xx'\n",
        " '989xx' '990xx' '991xx' '992xx' '993xx' '994xx' '995xx' '996xx' '997xx'\n",
        " '998xx' '999xx']\n"
       ]
      }
     ],
     "prompt_number": 130
    },
    {
     "cell_type": "code",
     "collapsed": false,
     "input": [
      "print lc_df.ix[0].values"
     ],
     "language": "python",
     "metadata": {},
     "outputs": [
      {
       "output_type": "stream",
       "stream": "stdout",
       "text": [
        "[54734 -1 True 26 0.0 0.0 80364 25000 25000 19080.057198275401 ' 36 months'\n",
        " ' 11.89%' 829.10000000000002 'B' 'B4' nan '< 1 year' 'RENT' 85000.0\n",
        " 'VERIFIED - income' Timestamp('2009-08-01 00:00:00') 'Fully Paid' 'n'\n",
        " 'https://www.lendingclub.com/browse/loanDetail.action?loan_id=54734'\n",
        " 'Due to a lack of personal finance education and exposure to poor financing skills growing up, I was easy prey for credit predators. I am devoted to becoming debt-free and can assure my lenders that I will pay on-time every time. I have never missed a payment during the last 16 years that I have had credit. '\n",
        " 'debt_consolidation' 'Debt consolidation for on-time payer' '941xx' 'CA'\n",
        " 19.48 0.0 'Feb-1994' 735 739 0.0 nan nan 10.0 0.0 28854 '52.1%' 42.0 'f'\n",
        " 0.0 0.0 29324.32 21811.700000000001 25000.0 4324.3199999999997 0.0 0.0 0.0\n",
        " '2011-10-01' 7392.0799999999999 nan '2012-08-01' 789 785 0.0 nan 1 1]\n"
       ]
      }
     ],
     "prompt_number": 31
    },
    {
     "cell_type": "code",
     "collapsed": false,
     "input": [],
     "language": "python",
     "metadata": {},
     "outputs": []
    }
   ],
   "metadata": {}
  }
 ]
}