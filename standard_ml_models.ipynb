{
 "metadata": {
  "name": "",
  "signature": "sha256:7f42b9e8d8c2cbd8240fb299dc7164f59431f4f7e59d7fba3eeabb3baa983808"
 },
 "nbformat": 3,
 "nbformat_minor": 0,
 "worksheets": [
  {
   "cells": [
    {
     "cell_type": "code",
     "collapsed": false,
     "input": [
      "import pandas as pd\n",
      "import numpy as np\n",
      "import bz2\n",
      "import random\n",
      "import lendingclub\n",
      "\n",
      "from lifelines.utils import concordance_index\n",
      "\n",
      "from sklearn.ensemble import RandomForestRegressor, AdaBoostRegressor, GradientBoostingRegressor\n",
      "from sklearn.linear_model import BayesianRidge, ElasticNet\n",
      "from sklearn.neural_network import BernoulliRBM\n",
      "from sklearn.grid_search import GridSearchCV\n",
      "from sklearn.preprocessing import LabelEncoder\n",
      "\n",
      "train, test = lendingclub.loadTrainTest()\n",
      "print pd.__version__"
     ],
     "language": "python",
     "metadata": {},
     "outputs": [
      {
       "output_type": "stream",
       "stream": "stdout",
       "text": [
        "0          3\n",
        "1         10\n",
        "2         14\n",
        "3          4\n",
        "4         36\n",
        "5          3\n",
        "6         27\n",
        "7          4\n",
        "8          4\n",
        "9         42\n",
        "10         3\n",
        "11         4\n",
        "12        44\n",
        "13        14\n",
        "14         4\n",
        "15        24\n",
        "16         4\n",
        "17         6\n",
        "18        43\n",
        "19         4\n",
        "20        42\n",
        "21         9\n",
        "22        42\n",
        "23         4\n",
        "24         4\n",
        "25        14\n",
        "26        33\n",
        "27        37\n",
        "28         9\n",
        "29        23\n",
        "          ..\n",
        "550534    37\n",
        "550535     5\n",
        "550536    20\n",
        "550537     4\n",
        "550538    17\n",
        "550539    43\n",
        "550540     9\n",
        "550541    10\n",
        "550542    26\n",
        "550543    33\n",
        "550544    23\n",
        "550545    27\n",
        "550546    19\n",
        "550547    31\n",
        "550548     9\n",
        "550549     9\n",
        "550550     9\n",
        "550551    32\n",
        "550552    15\n",
        "550553    27\n",
        "550554     4\n",
        "550555    34\n",
        "550556    47\n",
        "550557    34\n",
        "550558    42\n",
        "550559    30\n",
        "550560     4\n",
        "550561    19\n",
        "550562    41\n",
        "550563     9\n",
        "Name: addr_state, dtype: int64\n",
        "0.16.2"
       ]
      },
      {
       "output_type": "stream",
       "stream": "stdout",
       "text": [
        "\n"
       ]
      }
     ],
     "prompt_number": 1
    },
    {
     "cell_type": "code",
     "collapsed": false,
     "input": [
      "print train.columns\n",
      "print len(set(train['npv']))\n",
      "print len(set(train['npvPseudo']))"
     ],
     "language": "python",
     "metadata": {},
     "outputs": [
      {
       "output_type": "stream",
       "stream": "stdout",
       "text": [
        "Index([u'id', u'member_id', u'loan_amnt', u'funded_amnt', u'funded_amnt_inv',\n",
        "       u'term', u'int_rate', u'installment', u'grade', u'sub_grade',\n",
        "       u'emp_title', u'emp_length', u'home_ownership', u'annual_inc',\n",
        "       u'verification_status', u'issue_d', u'loan_status', u'pymnt_plan',\n",
        "       u'url', u'desc', u'purpose', u'title', u'zip_code', u'addr_state',\n",
        "       u'dti', u'delinq_2yrs', u'earliest_cr_line', u'fico_range_low',\n",
        "       u'fico_range_high', u'inq_last_6mths', u'mths_since_last_delinq',\n",
        "       u'mths_since_last_record', u'open_acc', u'pub_rec', u'revol_bal',\n",
        "       u'revol_util', u'total_acc', u'initial_list_status', u'out_prncp',\n",
        "       u'out_prncp_inv', u'total_pymnt', u'total_pymnt_inv',\n",
        "       u'total_rec_prncp', u'total_rec_int', u'total_rec_late_fee',\n",
        "       u'recoveries', u'collection_recovery_fee', u'last_pymnt_d',\n",
        "       u'last_pymnt_amnt', u'next_pymnt_d', u'last_credit_pull_d',\n",
        "       u'last_fico_range_high', u'last_fico_range_low',\n",
        "       u'collections_12_mths_ex_med', u'mths_since_last_major_derog',\n",
        "       u'policy_code', u'credit_policy', u'issue_date', u'loan_id',\n",
        "       u'finalStatus', u'monthsObserved', u'missedPayment', u'firstMissed',\n",
        "       u'dueWhenFirstMissed', u'receivedAfterMissed', u'riskFreeRate', u'npv',\n",
        "       u'firstMissedOrLastObserved', u'numeratorNAR', u'denominatorNAR',\n",
        "       u'finalStatusIsComplete', u'npvPseudo'],\n",
        "      dtype='object')\n",
        "175432"
       ]
      },
      {
       "output_type": "stream",
       "stream": "stdout",
       "text": [
        "\n",
        "255\n"
       ]
      }
     ],
     "prompt_number": 2
    },
    {
     "cell_type": "code",
     "collapsed": false,
     "input": [
      "feature_columns = ['loan_amnt', 'funded_amnt', 'term', 'grade', 'sub_grade', 'emp_length', 'home_ownership',\n",
      "                   'verification_status', 'purpose', 'zip_code', 'addr_state',\n",
      "                   'annual_inc', 'dti',\n",
      "                   'fico_range_low', 'fico_range_high', 'last_fico_range_low', 'last_fico_range_high', 'riskFreeRate']\n",
      "\n",
      "train_df = train.dropna(subset=feature_columns+['npv', 'npvPseudo'])\n",
      "test_df = test.dropna(subset=feature_columns+['npv'])\n",
      "\n",
      "print len(train_df.index)"
     ],
     "language": "python",
     "metadata": {},
     "outputs": [
      {
       "output_type": "stream",
       "stream": "stdout",
       "text": [
        "230422\n"
       ]
      }
     ],
     "prompt_number": 3
    },
    {
     "cell_type": "code",
     "collapsed": false,
     "input": [
      "train_features = train_df[feature_columns].as_matrix()\n",
      "train_labels = train_df[['npvPseudo']].as_matrix()\n",
      "train_score_labels = train_df[['npv']]\n",
      "\n",
      "test_features = test_df[feature_columns].as_matrix()\n",
      "test_score_labels = test_df[['npv']].as_matrix()\n",
      "test_is_complete = test_df[['finalStatusIsComplete']].as_matrix()\n",
      "print \"Created train and test data\""
     ],
     "language": "python",
     "metadata": {},
     "outputs": [
      {
       "output_type": "stream",
       "stream": "stdout",
       "text": [
        "Created train and test data\n"
       ]
      }
     ],
     "prompt_number": 4
    },
    {
     "cell_type": "code",
     "collapsed": false,
     "input": [
      "rf = RandomForestRegressor(n_estimators=50, min_samples_leaf=5)\n",
      "\n",
      "rf.fit(train_features, train_labels.ravel())\n",
      "predicted_npv = rf.predict(test_features)"
     ],
     "language": "python",
     "metadata": {},
     "outputs": [],
     "prompt_number": 5
    },
    {
     "cell_type": "code",
     "collapsed": false,
     "input": [
      "print test_score_labels.ravel().shape, predicted_npv.shape, test_is_complete.ravel().shape\n",
      "concordance_score = 1 - concordance_index(test_score_labels.ravel(), -predicted_npv, test_is_complete.ravel())\n",
      "print \"Concordance Score:\", concordance_score"
     ],
     "language": "python",
     "metadata": {},
     "outputs": [
      {
       "output_type": "stream",
       "stream": "stdout",
       "text": [
        "(294585,) (294585,) (294585,)\n",
        "Concordance Score:"
       ]
      },
      {
       "output_type": "stream",
       "stream": "stdout",
       "text": [
        " 0.826846118846\n"
       ]
      }
     ],
     "prompt_number": 6
    },
    {
     "cell_type": "code",
     "collapsed": false,
     "input": [
      "nars = lendingclub.simulatePortfolios(test, predicted_npv)\n",
      "print('10th, 50th, 90th percentiles:', np.percentile(nars, (10, 50, 90)))\n",
      "print(nars.mean())"
     ],
     "language": "python",
     "metadata": {},
     "outputs": [
      {
       "output_type": "stream",
       "stream": "stdout",
       "text": [
        "('10th, 50th, 90th percentiles:', array([ 0.05325434,  0.18825916,  0.20635217]))\n",
        "0.147053519541\n"
       ]
      }
     ],
     "prompt_number": 7
    },
    {
     "cell_type": "code",
     "collapsed": false,
     "input": [],
     "language": "python",
     "metadata": {},
     "outputs": []
    }
   ],
   "metadata": {}
  }
 ]
}